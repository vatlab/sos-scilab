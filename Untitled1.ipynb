{
 "cells": [
  {
   "cell_type": "code",
   "execution_count": 2,
   "id": "b45021ef-f9c5-4000-88f7-b86ccdca40a5",
   "metadata": {
    "kernel": "Scilab",
    "tags": []
   },
   "outputs": [
    {
     "name": "stdout",
     "output_type": "stream",
     "text": [
      "\u001b[4l\u001b[0m obj  = \n",
      "\n",
      "   1.   2.\n",
      "   3.   4.\n",
      "   5.   6.\n",
      "\n",
      "\u001b[0m"
     ]
    }
   ],
   "source": [
    "obj = [1 2; 3 4; 5 6]"
   ]
  },
  {
   "cell_type": "code",
   "execution_count": 4,
   "id": "ac2fbd85-3311-42b2-9727-d53c43d7cc50",
   "metadata": {
    "kernel": "Scilab"
   },
   "outputs": [
    {
     "name": "stdout",
     "output_type": "stream",
     "text": [
      "\u001b[4l\u001b[0m obj2  = \n",
      "\n",
      "   987.\n",
      "\n",
      "\u001b[0m"
     ]
    }
   ],
   "source": [
    "obj2 = 987"
   ]
  },
  {
   "cell_type": "code",
   "execution_count": 3,
   "id": "85b83240-1788-402e-a107-57ab5e196c39",
   "metadata": {
    "kernel": "Scilab",
    "tags": []
   },
   "outputs": [],
   "source": [
    "%put obj"
   ]
  },
  {
   "cell_type": "code",
   "execution_count": 4,
   "id": "cc5e7085-0dd8-4781-863c-680e4424f98b",
   "metadata": {
    "kernel": "Scilab"
   },
   "outputs": [
    {
     "name": "stdout",
     "output_type": "stream",
     "text": [
      "\u001b[4l\u001b[0m ans  =\n",
      "\n",
      "  \"np.matrix(sio.loadmat(r'/tmp/SCI_TMP_1992098_R1aSi0/mat2py.mat')['obj'])\"\n",
      "\n",
      "\u001b[0m"
     ]
    }
   ],
   "source": [
    "sos_py_repr(obj)"
   ]
  },
  {
   "cell_type": "code",
   "execution_count": 7,
   "id": "3f1dfac3-1c77-47bc-bb13-f166d5ce03fa",
   "metadata": {
    "kernel": "Scilab"
   },
   "outputs": [],
   "source": [
    "%put obj2"
   ]
  },
  {
   "cell_type": "code",
   "execution_count": 5,
   "id": "4e2da9e6-ee73-4b68-b77d-1c723994b52e",
   "metadata": {
    "kernel": "Scilab"
   },
   "outputs": [
    {
     "name": "stdout",
     "output_type": "stream",
     "text": [
      "\u001b[4l\u001b[0m ans  =\n",
      "\n",
      "  \"np.matrix(sio.loadmat(r'/tmp/SCI_TMP_1992098_R1aSi0/mat2py.mat')['obj'])\"\n",
      "\n",
      "\u001b[0m"
     ]
    },
    {
     "data": {
      "text/html": [
       "<div class=\"sos_hint\">Cell output captured to variable __captured with content</div>"
      ]
     },
     "metadata": {},
     "output_type": "display_data"
    },
    {
     "data": {
      "text/plain": [
       "[('stream',\n",
       "  {'name': 'stdout',\n",
       "   'text': '\\x1b[4l \\x08\\x1b[0m ans  =\\r\\n'\n",
       "           '\\r\\n'\n",
       "           '  '\n",
       "           '\"np.matrix(sio.loadmat(r\\'/tmp/SCI_TMP_1992098_R1aSi0/mat2py.mat\\')[\\'obj\\'])\"\\r\\n'\n",
       "           '\\r\\n'\n",
       "           '\\x1b[0m'})]"
      ]
     },
     "metadata": {},
     "output_type": "display_data"
    }
   ],
   "source": [
    "%capture \n",
    "sos_py_repr(obj)"
   ]
  },
  {
   "cell_type": "code",
   "execution_count": 39,
   "id": "bf6e1cc0-f24a-4ae5-afbd-5eabaf0d59b5",
   "metadata": {
    "kernel": "SoS",
    "tags": []
   },
   "outputs": [],
   "source": [
    "capt = {'name': 'stdout',\n",
    "   'text': '\\x1b[4l \\x08\\x1b[0m ans  =\\r\\n'\n",
    "           '\\r\\n'\n",
    "           '  '\n",
    "           '\"np.matrix(sio.loadmat(r\\'/tmp/SCI_TMP_1992098_R1aSi0/mat2py.mat\\')[\\'obj\\'])\"\\r\\n'\n",
    "           '\\r\\n'\n",
    "           '\\x1b[0m'}"
   ]
  },
  {
   "cell_type": "code",
   "execution_count": 37,
   "id": "3910f9b6-8cd8-44ba-9065-255e9f28044e",
   "metadata": {
    "kernel": "SoS"
   },
   "outputs": [],
   "source": [
    "capt2 = {'name': 'stdout',\n",
    "   'text': '\\x1b[4l \\x08\\x1b[0m ans  =\\r\\n\\r\\n  \"987\"\\r\\n\\r\\n\\x1b[0m'}"
   ]
  },
  {
   "cell_type": "code",
   "execution_count": 40,
   "id": "d7050e04-1c2e-4215-94c6-819bc6c9748a",
   "metadata": {
    "kernel": "SoS"
   },
   "outputs": [
    {
     "name": "stdout",
     "output_type": "stream",
     "text": [
      "\u001b[4l\u001b[0m ans  =\n",
      "\n",
      "  \"np.matrix(sio.loadmat(r'/tmp/SCI_TMP_1992098_R1aSi0/mat2py.mat')['obj'])\"\n",
      "\n",
      "\u001b[0m\n"
     ]
    }
   ],
   "source": [
    "expr = capt['text']\n",
    "print(expr)"
   ]
  },
  {
   "cell_type": "code",
   "execution_count": 38,
   "id": "8149a125-040e-4ba4-8315-896de7c82ca4",
   "metadata": {
    "kernel": "SoS",
    "tags": []
   },
   "outputs": [
    {
     "name": "stdout",
     "output_type": "stream",
     "text": [
      "\u001b[4l\u001b[0m ans  =\n",
      "\n",
      "  \"987\"\n",
      "\n",
      "\u001b[0m\n"
     ]
    }
   ],
   "source": [
    "expr2 = capt2['text']\n",
    "print(expr2)"
   ]
  },
  {
   "cell_type": "code",
   "execution_count": 42,
   "id": "694851c5-1040-4aa8-83b8-dcf72034e954",
   "metadata": {
    "kernel": "Python3",
    "tags": []
   },
   "outputs": [],
   "source": [
    "%get expr --from sos"
   ]
  },
  {
   "cell_type": "code",
   "execution_count": 17,
   "id": "54c831c3-54c9-4f5b-9bee-ebb9ea84e31f",
   "metadata": {
    "kernel": "Python3"
   },
   "outputs": [],
   "source": [
    "%get expr2 --from sos"
   ]
  },
  {
   "cell_type": "code",
   "execution_count": 12,
   "id": "ba7fdb47-5ea7-40d9-8a6c-75e5705e0342",
   "metadata": {
    "kernel": "Python3"
   },
   "outputs": [],
   "source": [
    "import scipy.io as sio"
   ]
  },
  {
   "cell_type": "code",
   "execution_count": 13,
   "id": "8df2e790-d349-44c3-b616-a9098dc8d779",
   "metadata": {
    "kernel": "Python3"
   },
   "outputs": [],
   "source": [
    "import numpy as np"
   ]
  },
  {
   "cell_type": "code",
   "execution_count": 14,
   "id": "fe0c31e1-e3f4-4a21-8bc4-6170580e9ead",
   "metadata": {
    "kernel": "Python3"
   },
   "outputs": [],
   "source": [
    "result = eval(expr[expr.index('\\n  ') + 4:expr.rindex('\\r\\n')-3])"
   ]
  },
  {
   "cell_type": "code",
   "execution_count": 21,
   "id": "db2cbfe8-2e85-4ebf-943b-787f6e0d9a02",
   "metadata": {
    "kernel": "Python3"
   },
   "outputs": [],
   "source": [
    "result2 = eval(expr2[expr2.index('\\n  ') + 4:expr2.rindex('\\r\\n')-3])"
   ]
  },
  {
   "cell_type": "code",
   "execution_count": 48,
   "id": "47f1f2a4-44a0-4294-b14c-3341be1aef1d",
   "metadata": {
    "kernel": "Python3"
   },
   "outputs": [
    {
     "data": {
      "text/plain": [
       "\"np.matrix(sio.loadmat(r'/tmp/SCI_TMP_1992098_R1aSi0/mat2py.mat')['obj'])\""
      ]
     },
     "execution_count": 48,
     "metadata": {},
     "output_type": "execute_result"
    }
   ],
   "source": [
    "expr[expr.index('\\n  ') + 4:expr.rindex('\\r\\n')-3]"
   ]
  },
  {
   "cell_type": "code",
   "execution_count": 15,
   "id": "26e71946-846d-418e-a1d8-19043b312c5d",
   "metadata": {
    "kernel": "Python3"
   },
   "outputs": [
    {
     "data": {
      "text/plain": [
       "matrix([[1., 2.],\n",
       "        [3., 4.],\n",
       "        [5., 6.]])"
      ]
     },
     "execution_count": 15,
     "metadata": {},
     "output_type": "execute_result"
    }
   ],
   "source": [
    "result"
   ]
  },
  {
   "cell_type": "code",
   "execution_count": 21,
   "id": "9d19f1be-a631-4550-9d8c-f70841678eaa",
   "metadata": {
    "kernel": "Python3"
   },
   "outputs": [
    {
     "data": {
      "text/plain": [
       "2.0"
      ]
     },
     "execution_count": 21,
     "metadata": {},
     "output_type": "execute_result"
    }
   ],
   "source": [
    "result[0,1]"
   ]
  },
  {
   "cell_type": "code",
   "execution_count": 1,
   "id": "10f8270f-2dec-4b6b-b81f-2418fa42f2a3",
   "metadata": {
    "kernel": "Python3"
   },
   "outputs": [],
   "source": [
    "objN = None"
   ]
  },
  {
   "cell_type": "code",
   "execution_count": 5,
   "id": "446b4a05-c794-4ae9-8fb4-5100bc480bf5",
   "metadata": {
    "kernel": "Python3"
   },
   "outputs": [
    {
     "name": "stdout",
     "output_type": "stream",
     "text": [
      "%nan\n"
     ]
    }
   ],
   "source": [
    "if objN is None:\n",
    "    print(r'%nan')"
   ]
  },
  {
   "cell_type": "code",
   "execution_count": 21,
   "id": "18164b06-a133-42b5-96ae-b120ea4f0802",
   "metadata": {
    "kernel": "SoS",
    "tags": []
   },
   "outputs": [],
   "source": [
    "var1 = None"
   ]
  },
  {
   "cell_type": "code",
   "execution_count": 22,
   "id": "8a127bb0-77c8-4bb7-bdb2-55f8698fee31",
   "metadata": {
    "kernel": "Scilab",
    "tags": []
   },
   "outputs": [
    {
     "name": "stdout",
     "output_type": "stream",
     "text": [
      "\u001b[4l\u001b[0m\n",
      "   Nan\n",
      "\n",
      "\u001b[0m"
     ]
    }
   ],
   "source": [
    "%get var1\n",
    "disp(var1)"
   ]
  },
  {
   "cell_type": "code",
   "execution_count": 24,
   "id": "9f8f7527-f178-4820-88b7-1aba8f2d8f68",
   "metadata": {
    "kernel": "Scilab"
   },
   "outputs": [
    {
     "name": "stdout",
     "output_type": "stream",
     "text": [
      "\u001b[4l\u001b[0m var1  = \n",
      "\n",
      "   Nan\n",
      "\n",
      "\u001b[0m"
     ]
    },
    {
     "data": {
      "text/html": [
       "<div class=\"sos_hint\">Cell output captured to variable __captured with content</div>"
      ]
     },
     "metadata": {},
     "output_type": "display_data"
    },
    {
     "data": {
      "text/plain": [
       "[('stream',\n",
       "  {'name': 'stdout',\n",
       "   'text': '\\x1b[4l \\x08\\x1b[0m var1  = \\r\\n\\r\\n   Nan\\r\\n\\r\\n\\x1b[0m'})]"
      ]
     },
     "metadata": {},
     "output_type": "display_data"
    }
   ],
   "source": [
    "%capture \n",
    "var1"
   ]
  },
  {
   "cell_type": "code",
   "execution_count": 25,
   "id": "f5194d25-279a-4734-b178-d12dd09193c5",
   "metadata": {
    "kernel": "SoS",
    "tags": []
   },
   "outputs": [],
   "source": [
    "capt = {'name': 'stdout',\n",
    "   'text': '\\x1b[4l \\x08\\x1b[0m var1  = \\r\\n\\r\\n   Nan\\r\\n\\r\\n\\x1b[0m'}"
   ]
  },
  {
   "cell_type": "code",
   "execution_count": 26,
   "id": "dfc88cb8-aeb6-40ba-ac96-fa08cc194d39",
   "metadata": {
    "kernel": "SoS"
   },
   "outputs": [],
   "source": [
    "expr = capt['text']"
   ]
  },
  {
   "cell_type": "code",
   "execution_count": 35,
   "id": "787015dd-530d-4191-83da-c35d5e622ea7",
   "metadata": {
    "kernel": "SoS"
   },
   "outputs": [],
   "source": [
    "res = expr[expr.index('\\n  ') + 4:expr.rindex('\\r\\n')-1]"
   ]
  },
  {
   "cell_type": "code",
   "execution_count": 36,
   "id": "ba79407b-8057-4c31-8c39-82bdd8319552",
   "metadata": {
    "kernel": "SoS"
   },
   "outputs": [
    {
     "name": "stdout",
     "output_type": "stream",
     "text": [
      "Nan\n"
     ]
    }
   ],
   "source": [
    "print(res)"
   ]
  },
  {
   "cell_type": "code",
   "execution_count": 6,
   "id": "8fa8c1ee-e79c-4492-af5f-708d90b4d02b",
   "metadata": {
    "kernel": "Scilab",
    "tags": []
   },
   "outputs": [
    {
     "name": "stdout",
     "output_type": "stream",
     "text": [
      "\u001b[4l\u001b[0m bool  = \n",
      "\n",
      "  F\n",
      "\n",
      "\u001b[0m\u001b[4l\u001b[0m ans  =\n",
      "\n",
      "  \"boolean\"\n",
      "\n",
      "\u001b[0m"
     ]
    }
   ],
   "source": [
    "bool = [%f]\n",
    "typeof(bool)"
   ]
  },
  {
   "cell_type": "code",
   "execution_count": 7,
   "id": "d55bfb21-2def-42a7-a242-82670ca52f2c",
   "metadata": {
    "kernel": "Scilab"
   },
   "outputs": [
    {
     "name": "stdout",
     "output_type": "stream",
     "text": [
      "\u001b[4l\u001b[0m ans  =\n",
      "\n",
      "  \"False\"\n",
      "\n",
      "\u001b[0m"
     ]
    }
   ],
   "source": [
    "sos_py_repr(bool)"
   ]
  },
  {
   "cell_type": "code",
   "execution_count": 4,
   "id": "49ab5497-3956-4f8c-b989-6e078c2168dd",
   "metadata": {
    "kernel": "Scilab"
   },
   "outputs": [
    {
     "name": "stdout",
     "output_type": "stream",
     "text": [
      "\u001b[4l\u001b[0m ans  =\n",
      "\n",
      "   1.\n",
      "\n",
      "\u001b[0m"
     ]
    }
   ],
   "source": [
    "length(bool)"
   ]
  },
  {
   "cell_type": "code",
   "execution_count": null,
   "id": "d3ccfa84-22ca-40a7-8a0b-94c70f95977d",
   "metadata": {
    "kernel": "Scilab"
   },
   "outputs": [],
   "source": []
  }
 ],
 "metadata": {
  "kernelspec": {
   "display_name": "SoS",
   "language": "sos",
   "name": "sos"
  },
  "language_info": {
   "codemirror_mode": "sos",
   "file_extension": ".sos",
   "mimetype": "text/x-sos",
   "name": "sos",
   "nbconvert_exporter": "sos_notebook.converter.SoS_Exporter",
   "pygments_lexer": "sos"
  },
  "sos": {
   "kernels": [
    [
     "Python3",
     "python3",
     "Python3",
     "#FFD91A",
     {
      "name": "ipython",
      "version": 3
     }
    ],
    [
     "Scilab",
     "scilab",
     "scilab",
     "",
     ""
    ],
    [
     "SoS",
     "sos",
     "",
     "",
     "sos"
    ]
   ],
   "version": "0.23.4"
  }
 },
 "nbformat": 4,
 "nbformat_minor": 5
}
